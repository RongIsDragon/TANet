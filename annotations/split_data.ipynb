{
 "cells": [
  {
   "cell_type": "code",
   "execution_count": 4,
   "metadata": {},
   "outputs": [],
   "source": [
    "import numpy as np\n",
    "from PIL import Image\n",
    "import os"
   ]
  },
  {
   "cell_type": "code",
   "execution_count": 2,
   "metadata": {},
   "outputs": [],
   "source": [
    "def get_files(files_dir):\n",
    "    files_list = []\n",
    "    for file in os.listdir(files_dir):\n",
    "        files_list.append(file)\n",
    "    return files_list"
   ]
  },
  {
   "cell_type": "code",
   "execution_count": 3,
   "metadata": {},
   "outputs": [
    {
     "name": "stdout",
     "output_type": "stream",
     "text": [
      "52232\n"
     ]
    }
   ],
   "source": [
    "file_dir = '../data/train/labels'\n",
    "file_list = get_files(file_dir)\n",
    "print(len(file_list))"
   ]
  },
  {
   "cell_type": "code",
   "execution_count": 5,
   "metadata": {},
   "outputs": [
    {
     "name": "stdout",
     "output_type": "stream",
     "text": [
      "2612.0 49620.0\n"
     ]
    }
   ],
   "source": [
    "ratio_train = 0.95\n",
    "ratio_test = 0.05\n",
    "np.random.shuffle(file_list)\n",
    "cnt_test = round(len(file_list) * ratio_test, 0)\n",
    "cnt_train = len(file_list) - cnt_test\n",
    "print(cnt_test, cnt_train)"
   ]
  },
  {
   "cell_type": "code",
   "execution_count": 6,
   "metadata": {},
   "outputs": [],
   "source": [
    "np.random.shuffle(file_list)\n",
    "train_list = []\n",
    "test_list = []\n",
    "\n",
    "for i in range(int(cnt_train)):\n",
    "    train_list.append(file_list[i])\n",
    "    \n",
    "for i in range(int(cnt_train), int(cnt_train + cnt_test)):\n",
    "    test_list.append(file_list[i])"
   ]
  },
  {
   "cell_type": "code",
   "execution_count": 7,
   "metadata": {},
   "outputs": [
    {
     "name": "stdout",
     "output_type": "stream",
     "text": [
      "400311.png\n"
     ]
    }
   ],
   "source": [
    "print(test_list[0])"
   ]
  },
  {
   "cell_type": "code",
   "execution_count": 14,
   "metadata": {},
   "outputs": [],
   "source": [
    "file = open('train.lst', 'w')\n",
    "for i in range(len(train_list)):\n",
    "    name = train_list[i]\n",
    "    file.write(name + '\\n')\n",
    "file.close()"
   ]
  },
  {
   "cell_type": "code",
   "execution_count": null,
   "metadata": {},
   "outputs": [],
   "source": []
  }
 ],
 "metadata": {
  "kernelspec": {
   "display_name": "Python 3",
   "language": "python",
   "name": "python3"
  },
  "language_info": {
   "codemirror_mode": {
    "name": "ipython",
    "version": 3
   },
   "file_extension": ".py",
   "mimetype": "text/x-python",
   "name": "python",
   "nbconvert_exporter": "python",
   "pygments_lexer": "ipython3",
   "version": "3.6.5"
  }
 },
 "nbformat": 4,
 "nbformat_minor": 2
}
